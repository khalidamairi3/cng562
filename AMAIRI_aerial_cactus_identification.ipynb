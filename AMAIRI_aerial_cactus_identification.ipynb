{
 "cells": [
  {
   "cell_type": "code",
   "execution_count": null,
   "metadata": {},
   "outputs": [],
   "source": [
    "!pip install kaggle\n",
    "!mkdir ~/.kaggle\n",
    "!mkdir ./.kaggle\n",
    "import json\n",
    "token = {\"username\":\"e211097\",\"key\":\"d1cbc0614124c60ed9eca762e87944cb\"}\n",
    "with open('/content/.kaggle/kaggle.json', 'w') as file:\n",
    "    json.dump(token, file)\n",
    "!cp /content/.kaggle/kaggle.json ~/.kaggle/kaggle.json\n",
    "!kaggle config set -n path -v{/content}\n",
    "!chmod 600 /root/.kaggle/kaggle.json\n",
    "\n",
    "!kaggle competitions download -c aerial-cactus-identification\n",
    "!unzip ./{/content}/competitions/aerial-cactus-identification/train.zip"
   ]
  },
  {
   "cell_type": "markdown",
   "metadata": {},
   "source": [
    "# Import libraries and define paths"
   ]
  },
  {
   "cell_type": "code",
   "execution_count": 1,
   "metadata": {},
   "outputs": [
    {
     "name": "stderr",
     "output_type": "stream",
     "text": [
      "Using TensorFlow backend.\n"
     ]
    }
   ],
   "source": [
    "import numpy as np\n",
    "import pandas as pd \n",
    "\n",
    "import os\n",
    "\n",
    "\n",
    "\n",
    "\n",
    "from PIL import Image\n",
    "import matplotlib.pyplot as plt\n",
    "from glob import glob\n",
    "\n",
    "from sklearn.model_selection import train_test_split\n",
    "from keras.models import Sequential\n",
    "from keras.layers import Dense, Dropout, Conv2D, MaxPool2D, Flatten, Activation\n",
    "from keras.layers.normalization import BatchNormalization\n",
    "from keras.optimizers import Adam\n",
    "from keras.callbacks import ReduceLROnPlateau, EarlyStopping\n",
    "from keras.applications.vgg16 import VGG16\n",
    "from keras.preprocessing.image import ImageDataGenerator\n",
    "from keras.applications.densenet import DenseNet169\n",
    "\n",
    "ORIGIN_PATH=os.getcwd()\n",
    "path=os.path.abspath(\"kaggle.json\")\n",
    "train_path = os.path.abspath(\"train\")\n",
    "# train_path=os.path.join(path,\"train\")\n",
    "# test_path=os.path.join(path,\"test\")\n",
    "# train_label=os.path.join(path,\"train.csv\")\n",
    "# train_label = os.path.abspath(\"train.csv\")"
   ]
  },
  {
   "cell_type": "markdown",
   "metadata": {},
   "source": [
    "# Loading the labels from csv file"
   ]
  },
  {
   "cell_type": "code",
   "execution_count": 2,
   "metadata": {},
   "outputs": [
    {
     "name": "stdout",
     "output_type": "stream",
     "text": [
      "35000\n"
     ]
    },
    {
     "data": {
      "text/html": [
       "<div>\n",
       "<style scoped>\n",
       "    .dataframe tbody tr th:only-of-type {\n",
       "        vertical-align: middle;\n",
       "    }\n",
       "\n",
       "    .dataframe tbody tr th {\n",
       "        vertical-align: top;\n",
       "    }\n",
       "\n",
       "    .dataframe thead th {\n",
       "        text-align: right;\n",
       "    }\n",
       "</style>\n",
       "<table border=\"1\" class=\"dataframe\">\n",
       "  <thead>\n",
       "    <tr style=\"text-align: right;\">\n",
       "      <th></th>\n",
       "      <th>id</th>\n",
       "      <th>has_cactus</th>\n",
       "    </tr>\n",
       "  </thead>\n",
       "  <tbody>\n",
       "    <tr>\n",
       "      <th>0</th>\n",
       "      <td>0004be2cfeaba1c0361d39e2b000257b.jpg</td>\n",
       "      <td>1</td>\n",
       "    </tr>\n",
       "    <tr>\n",
       "      <th>1</th>\n",
       "      <td>000c8a36845c0208e833c79c1bffedd1.jpg</td>\n",
       "      <td>1</td>\n",
       "    </tr>\n",
       "    <tr>\n",
       "      <th>2</th>\n",
       "      <td>000d1e9a533f62e55c289303b072733d.jpg</td>\n",
       "      <td>1</td>\n",
       "    </tr>\n",
       "    <tr>\n",
       "      <th>3</th>\n",
       "      <td>0011485b40695e9138e92d0b3fb55128.jpg</td>\n",
       "      <td>1</td>\n",
       "    </tr>\n",
       "    <tr>\n",
       "      <th>4</th>\n",
       "      <td>0014d7a11e90b62848904c1418fc8cf2.jpg</td>\n",
       "      <td>1</td>\n",
       "    </tr>\n",
       "  </tbody>\n",
       "</table>\n",
       "</div>"
      ],
      "text/plain": [
       "                                     id  has_cactus\n",
       "0  0004be2cfeaba1c0361d39e2b000257b.jpg           1\n",
       "1  000c8a36845c0208e833c79c1bffedd1.jpg           1\n",
       "2  000d1e9a533f62e55c289303b072733d.jpg           1\n",
       "3  0011485b40695e9138e92d0b3fb55128.jpg           1\n",
       "4  0014d7a11e90b62848904c1418fc8cf2.jpg           1"
      ]
     },
     "execution_count": 2,
     "metadata": {},
     "output_type": "execute_result"
    }
   ],
   "source": [
    "# train_label=os.path.join(path,\"train.csv\")\n",
    "data=pd.read_csv(\"./{/content}/competitions/aerial-cactus-identification/train.csv\")\n",
    "print(data.size)\n",
    "data.head()"
   ]
  },
  {
   "cell_type": "markdown",
   "metadata": {},
   "source": [
    "### Read images and search for the image label. The images data to be added to the dataset and corresponding label to be added to the label array "
   ]
  },
  {
   "cell_type": "code",
   "execution_count": 3,
   "metadata": {},
   "outputs": [],
   "source": [
    "from skimage.io import imread\n",
    "import cv2\n",
    "\n",
    "train_images = os.listdir(train_path)\n",
    "# test_images = os.listdir(test_path)\n",
    "SIZE = 64\n",
    "dataset = []\n",
    "label = []\n",
    "for i, image_id in enumerate(train_images):\n",
    "    try:\n",
    "\n",
    "        \n",
    "        image_path=os.path.join(train_path,image_id)\n",
    "        image = cv2.imread(image_path)\n",
    "        image = Image.fromarray(image, 'RGB')\n",
    "        image = image.resize((SIZE, SIZE))\n",
    "        label.append(data[data['id'] == image_id]['has_cactus'].values[0]) \n",
    "        dataset.append(np.array(image))\n",
    "        \n",
    "    except Exception:\n",
    "        print(\"Could not read image {} with name {}\".format(i, image_name))"
   ]
  },
  {
   "cell_type": "code",
   "execution_count": 4,
   "metadata": {},
   "outputs": [
    {
     "data": {
      "image/png": "[encoded data removed]",
      "text/plain": [
       "<Figure size 1440x864 with 5 Axes>"
      ]
     },
     "metadata": {
      "needs_background": "light"
     },
     "output_type": "display_data"
    }
   ],
   "source": [
    "plt.figure(figsize = (20, 12))\n",
    "for index, image_index in enumerate(np.random.randint(len(train_images), size = 5)):\n",
    "    plt.subplot(1, 5, index+1)\n",
    "    plt.imshow(dataset[image_index])"
   ]
  },
  {
   "cell_type": "code",
   "execution_count": 5,
   "metadata": {},
   "outputs": [],
   "source": [
    "dataset = np.asarray(dataset)\n",
    "dataset = dataset.astype('float32')\n",
    "\n",
    "dataset /= 255\n",
    "label = np.asarray(label)"
   ]
  },
  {
   "cell_type": "code",
   "execution_count": 6,
   "metadata": {},
   "outputs": [],
   "source": [
    "idx = np.arange(dataset.shape[0])\n",
    "np.random.shuffle(idx)\n",
    "dataset = dataset[idx]\n",
    "label = label[idx]"
   ]
  },
  {
   "cell_type": "markdown",
   "metadata": {},
   "source": [
    "# CNN model"
   ]
  },
  {
   "cell_type": "code",
   "execution_count": 7,
   "metadata": {},
   "outputs": [
    {
     "name": "stdout",
     "output_type": "stream",
     "text": [
      "WARNING:tensorflow:From C:\\Users\\DELL\\Anaconda3\\lib\\site-packages\\tensorflow\\python\\framework\\op_def_library.py:263: colocate_with (from tensorflow.python.framework.ops) is deprecated and will be removed in a future version.\n",
      "Instructions for updating:\n",
      "Colocations handled automatically by placer.\n",
      "WARNING:tensorflow:From C:\\Users\\DELL\\Anaconda3\\lib\\site-packages\\keras\\backend\\tensorflow_backend.py:3445: calling dropout (from tensorflow.python.ops.nn_ops) with keep_prob is deprecated and will be removed in a future version.\n",
      "Instructions for updating:\n",
      "Please use `rate` instead of `keep_prob`. Rate should be set to `rate = 1 - keep_prob`.\n",
      "_________________________________________________________________\n",
      "Layer (type)                 Output Shape              Param #   \n",
      "=================================================================\n",
      "conv2d_1 (Conv2D)            (None, 62, 62, 32)        896       \n",
      "_________________________________________________________________\n",
      "max_pooling2d_1 (MaxPooling2 (None, 31, 31, 32)        0         \n",
      "_________________________________________________________________\n",
      "batch_normalization_1 (Batch (None, 31, 31, 32)        128       \n",
      "_________________________________________________________________\n",
      "dropout_1 (Dropout)          (None, 31, 31, 32)        0         \n",
      "_________________________________________________________________\n",
      "conv2d_2 (Conv2D)            (None, 29, 29, 32)        9248      \n",
      "_________________________________________________________________\n",
      "max_pooling2d_2 (MaxPooling2 (None, 14, 14, 32)        0         \n",
      "_________________________________________________________________\n",
      "batch_normalization_2 (Batch (None, 14, 14, 32)        128       \n",
      "_________________________________________________________________\n",
      "dropout_2 (Dropout)          (None, 14, 14, 32)        0         \n",
      "_________________________________________________________________\n",
      "conv2d_3 (Conv2D)            (None, 12, 12, 32)        9248      \n",
      "_________________________________________________________________\n",
      "max_pooling2d_3 (MaxPooling2 (None, 6, 6, 32)          0         \n",
      "_________________________________________________________________\n",
      "batch_normalization_3 (Batch (None, 6, 6, 32)          128       \n",
      "_________________________________________________________________\n",
      "dropout_3 (Dropout)          (None, 6, 6, 32)          0         \n",
      "_________________________________________________________________\n",
      "flatten_1 (Flatten)          (None, 1152)              0         \n",
      "_________________________________________________________________\n",
      "dense_1 (Dense)              (None, 512)               590336    \n",
      "_________________________________________________________________\n",
      "batch_normalization_4 (Batch (None, 512)               2048      \n",
      "_________________________________________________________________\n",
      "dropout_4 (Dropout)          (None, 512)               0         \n",
      "_________________________________________________________________\n",
      "dense_2 (Dense)              (None, 2)                 1026      \n",
      "=================================================================\n",
      "Total params: 613,186\n",
      "Trainable params: 611,970\n",
      "Non-trainable params: 1,216\n",
      "_________________________________________________________________\n"
     ]
    }
   ],
   "source": [
    "from keras.models import Sequential\n",
    "from keras.layers import Conv2D\n",
    "from keras.layers import MaxPooling2D\n",
    "from keras.layers import Flatten\n",
    "from keras.layers import Dense\n",
    "from keras.layers import Dropout\n",
    "from keras.optimizers import SGD\n",
    "\n",
    "height = 64\n",
    "width = 64\n",
    "classes = 2\n",
    "channels = 3\n",
    "chanDim = -1\n",
    "\n",
    "    \n",
    "inputShape = (height, width, channels)\n",
    "chanDim = -1\n",
    "model = Sequential()\n",
    "model.add(Conv2D(32, (3,3), activation = 'relu', input_shape = inputShape))\n",
    "model.add(MaxPooling2D(2,2))\n",
    "model.add(BatchNormalization(axis = chanDim))\n",
    "model.add(Dropout(0.2))\n",
    "\n",
    "model.add(Conv2D(32, (3,3), activation = 'relu'))\n",
    "model.add(MaxPooling2D(2,2))\n",
    "model.add(BatchNormalization(axis = chanDim))\n",
    "model.add(Dropout(0.2))\n",
    "\n",
    "model.add(Conv2D(32, (3,3), activation = 'relu'))\n",
    "model.add(MaxPooling2D(2,2))\n",
    "model.add(BatchNormalization(axis = chanDim))\n",
    "model.add(Dropout(0.2))\n",
    "\n",
    "model.add(Flatten())\n",
    "    \n",
    "model.add(Dense(512, activation = 'relu'))\n",
    "model.add(BatchNormalization(axis = chanDim))\n",
    "model.add(Dropout(0.2))\n",
    "model.add(Dense(classes, activation = 'softmax'))\n",
    "model.compile(loss = 'categorical_crossentropy', optimizer = 'Adam', metrics = ['accuracy'])\n",
    "model.summary()"
   ]
  },
  {
   "cell_type": "markdown",
   "metadata": {},
   "source": [
    "## fitting our model "
   ]
  },
  {
   "cell_type": "code",
   "execution_count": 8,
   "metadata": {},
   "outputs": [
    {
     "name": "stdout",
     "output_type": "stream",
     "text": [
      "WARNING:tensorflow:From C:\\Users\\DELL\\Anaconda3\\lib\\site-packages\\tensorflow\\python\\ops\\math_ops.py:3066: to_int32 (from tensorflow.python.ops.math_ops) is deprecated and will be removed in a future version.\n",
      "Instructions for updating:\n",
      "Use tf.cast instead.\n",
      "Epoch 1/20\n",
      "14000/14000 [==============================] - 106s 8ms/step - loss: 0.2040 - acc: 0.9333\n",
      "Epoch 2/20\n",
      "14000/14000 [==============================] - 96s 7ms/step - loss: 0.1051 - acc: 0.9619\n",
      "Epoch 3/20\n",
      "14000/14000 [==============================] - 95s 7ms/step - loss: 0.0768 - acc: 0.9725\n",
      "Epoch 4/20\n",
      "14000/14000 [==============================] - 97s 7ms/step - loss: 0.0601 - acc: 0.9779\n",
      "Epoch 5/20\n",
      "14000/14000 [==============================] - 97s 7ms/step - loss: 0.0467 - acc: 0.9831\n",
      "Epoch 6/20\n",
      "14000/14000 [==============================] - 96s 7ms/step - loss: 0.0439 - acc: 0.9841\n",
      "Epoch 7/20\n",
      "14000/14000 [==============================] - 100s 7ms/step - loss: 0.0366 - acc: 0.9871\n",
      "Epoch 8/20\n",
      "14000/14000 [==============================] - 91s 7ms/step - loss: 0.0297 - acc: 0.9892\n",
      "Epoch 9/20\n",
      "14000/14000 [==============================] - 92s 7ms/step - loss: 0.0342 - acc: 0.9877\n",
      "Epoch 10/20\n",
      "14000/14000 [==============================] - 93s 7ms/step - loss: 0.0265 - acc: 0.9914\n",
      "Epoch 11/20\n",
      "14000/14000 [==============================] - 93s 7ms/step - loss: 0.0196 - acc: 0.9929\n",
      "Epoch 12/20\n",
      "14000/14000 [==============================] - 93s 7ms/step - loss: 0.0270 - acc: 0.9909\n",
      "Epoch 13/20\n",
      "14000/14000 [==============================] - 93s 7ms/step - loss: 0.0168 - acc: 0.9943\n",
      "Epoch 14/20\n",
      "14000/14000 [==============================] - 94s 7ms/step - loss: 0.0195 - acc: 0.9934\n",
      "Epoch 15/20\n",
      "14000/14000 [==============================] - 95s 7ms/step - loss: 0.0216 - acc: 0.9926\n",
      "Epoch 16/20\n",
      "14000/14000 [==============================] - 99s 7ms/step - loss: 0.0186 - acc: 0.9941\n",
      "Epoch 17/20\n",
      "14000/14000 [==============================] - 105s 7ms/step - loss: 0.0176 - acc: 0.9935\n",
      "Epoch 18/20\n",
      "14000/14000 [==============================] - 103s 7ms/step - loss: 0.0181 - acc: 0.9936\n",
      "Epoch 19/20\n",
      "14000/14000 [==============================] - 95s 7ms/step - loss: 0.0127 - acc: 0.9951\n",
      "Epoch 20/20\n",
      "14000/14000 [==============================] - 95s 7ms/step - loss: 0.0166 - acc: 0.9948\n"
     ]
    }
   ],
   "source": [
    "from keras.utils import to_categorical\n",
    "from sklearn.model_selection import train_test_split\n",
    "X_train, X_test, y_train, y_test = train_test_split(dataset, to_categorical(label), test_size = 0.20, random_state = 0)\n",
    "\n",
    "\n",
    "h = model.fit(X_train, y_train, epochs = 20, batch_size = 32)"
   ]
  },
  {
   "cell_type": "markdown",
   "metadata": {},
   "source": [
    "# Evaluate our model "
   ]
  },
  {
   "cell_type": "code",
   "execution_count": 9,
   "metadata": {},
   "outputs": [
    {
     "name": "stdout",
     "output_type": "stream",
     "text": [
      "Test loss: 0.0743982544633826\n",
      "Test accuracy: 0.9771428571428571\n"
     ]
    }
   ],
   "source": [
    "score = model.evaluate(X_test, y_test, verbose=0)\n",
    "print('Test loss:', score[0])\n",
    "print('Test accuracy:', score[1])"
   ]
  },
  {
   "cell_type": "markdown",
   "metadata": {},
   "source": [
    "# Pre_bulit model (VGG19) "
   ]
  },
  {
   "cell_type": "code",
   "execution_count": 10,
   "metadata": {},
   "outputs": [
    {
     "name": "stdout",
     "output_type": "stream",
     "text": [
      "_________________________________________________________________\n",
      "Layer (type)                 Output Shape              Param #   \n",
      "=================================================================\n",
      "input_1 (InputLayer)         (None, 64, 64, 3)         0         \n",
      "_________________________________________________________________\n",
      "block1_conv1 (Conv2D)        (None, 64, 64, 64)        1792      \n",
      "_________________________________________________________________\n",
      "block1_conv2 (Conv2D)        (None, 64, 64, 64)        36928     \n",
      "_________________________________________________________________\n",
      "block1_pool (MaxPooling2D)   (None, 32, 32, 64)        0         \n",
      "_________________________________________________________________\n",
      "block2_conv1 (Conv2D)        (None, 32, 32, 128)       73856     \n",
      "_________________________________________________________________\n",
      "block2_conv2 (Conv2D)        (None, 32, 32, 128)       147584    \n",
      "_________________________________________________________________\n",
      "block2_pool (MaxPooling2D)   (None, 16, 16, 128)       0         \n",
      "_________________________________________________________________\n",
      "block3_conv1 (Conv2D)        (None, 16, 16, 256)       295168    \n",
      "_________________________________________________________________\n",
      "block3_conv2 (Conv2D)        (None, 16, 16, 256)       590080    \n",
      "_________________________________________________________________\n",
      "block3_conv3 (Conv2D)        (None, 16, 16, 256)       590080    \n",
      "_________________________________________________________________\n",
      "block3_conv4 (Conv2D)        (None, 16, 16, 256)       590080    \n",
      "_________________________________________________________________\n",
      "block3_pool (MaxPooling2D)   (None, 8, 8, 256)         0         \n",
      "_________________________________________________________________\n",
      "block4_conv1 (Conv2D)        (None, 8, 8, 512)         1180160   \n",
      "_________________________________________________________________\n",
      "block4_conv2 (Conv2D)        (None, 8, 8, 512)         2359808   \n",
      "_________________________________________________________________\n",
      "block4_conv3 (Conv2D)        (None, 8, 8, 512)         2359808   \n",
      "_________________________________________________________________\n",
      "block4_conv4 (Conv2D)        (None, 8, 8, 512)         2359808   \n",
      "_________________________________________________________________\n",
      "block4_pool (MaxPooling2D)   (None, 4, 4, 512)         0         \n",
      "_________________________________________________________________\n",
      "block5_conv1 (Conv2D)        (None, 4, 4, 512)         2359808   \n",
      "_________________________________________________________________\n",
      "block5_conv2 (Conv2D)        (None, 4, 4, 512)         2359808   \n",
      "_________________________________________________________________\n",
      "block5_conv3 (Conv2D)        (None, 4, 4, 512)         2359808   \n",
      "_________________________________________________________________\n",
      "block5_conv4 (Conv2D)        (None, 4, 4, 512)         2359808   \n",
      "_________________________________________________________________\n",
      "block5_pool (MaxPooling2D)   (None, 2, 2, 512)         0         \n",
      "=================================================================\n",
      "Total params: 20,024,384\n",
      "Trainable params: 0\n",
      "Non-trainable params: 20,024,384\n",
      "_________________________________________________________________\n"
     ]
    }
   ],
   "source": [
    "from keras.applications import VGG19\n",
    "\n",
    "VGG19_net = VGG19(weights='imagenet', \n",
    "                  include_top=False, \n",
    "                  input_shape=(64, 64, 3))\n",
    "VGG19_net.trainable = False\n",
    "VGG19_net.summary()"
   ]
  },
  {
   "cell_type": "code",
   "execution_count": 11,
   "metadata": {},
   "outputs": [
    {
     "name": "stdout",
     "output_type": "stream",
     "text": [
      "_________________________________________________________________\n",
      "Layer (type)                 Output Shape              Param #   \n",
      "=================================================================\n",
      "vgg19 (Model)                (None, 2, 2, 512)         20024384  \n",
      "_________________________________________________________________\n",
      "flatten_2 (Flatten)          (None, 2048)              0         \n",
      "_________________________________________________________________\n",
      "dense_3 (Dense)              (None, 256)               524544    \n",
      "_________________________________________________________________\n",
      "activation_1 (Activation)    (None, 256)               0         \n",
      "_________________________________________________________________\n",
      "dropout_5 (Dropout)          (None, 256)               0         \n",
      "_________________________________________________________________\n",
      "dense_4 (Dense)              (None, 1)                 257       \n",
      "_________________________________________________________________\n",
      "activation_2 (Activation)    (None, 1)                 0         \n",
      "=================================================================\n",
      "Total params: 20,549,185\n",
      "Trainable params: 524,801\n",
      "Non-trainable params: 20,024,384\n",
      "_________________________________________________________________\n"
     ]
    }
   ],
   "source": [
    "model1 = Sequential()\n",
    "model1.add(VGG19_net)\n",
    "model1.add(Flatten())\n",
    "model1.add(Dense(256))\n",
    "model1.add(Activation('relu'))\n",
    "model1.add(Dropout(0.5))\n",
    "model1.add(Dense(1))\n",
    "model1.add(Activation('sigmoid'))\n",
    "model1.compile(loss='binary_crossentropy',\n",
    "              optimizer=Adam(lr=1e-5), \n",
    "              metrics=['accuracy'])\n",
    "model1.summary()"
   ]
  },
  {
   "cell_type": "code",
   "execution_count": 12,
   "metadata": {},
   "outputs": [
    {
     "name": "stdout",
     "output_type": "stream",
     "text": [
      "[1 0 0 ... 1 1 1]\n"
     ]
    }
   ],
   "source": [
    "batch_size = 64\n",
    "nb_epoch = 20\n",
    "X_train, X_test, y_train, y_test = train_test_split(dataset, label, test_size = 0.20, random_state = 0)\n",
    "print(y_train)\n"
   ]
  },
  {
   "cell_type": "code",
   "execution_count": 13,
   "metadata": {},
   "outputs": [
    {
     "name": "stdout",
     "output_type": "stream",
     "text": [
      "Train on 12600 samples, validate on 1400 samples\n",
      "Epoch 1/20\n",
      " - 922s - loss: 0.5775 - acc: 0.7129 - val_loss: 0.4523 - val_acc: 0.7443\n",
      "Epoch 2/20\n",
      " - 773s - loss: 0.4347 - acc: 0.7971 - val_loss: 0.3653 - val_acc: 0.8029\n",
      "Epoch 3/20\n",
      " - 823s - loss: 0.3596 - acc: 0.8420 - val_loss: 0.3075 - val_acc: 0.8836\n",
      "Epoch 4/20\n",
      " - 838s - loss: 0.3095 - acc: 0.8743 - val_loss: 0.2712 - val_acc: 0.9071\n",
      "Epoch 5/20\n",
      " - 838s - loss: 0.2709 - acc: 0.8943 - val_loss: 0.2458 - val_acc: 0.9193\n",
      "Epoch 6/20\n",
      " - 838s - loss: 0.2444 - acc: 0.9117 - val_loss: 0.2261 - val_acc: 0.9271\n",
      "Epoch 7/20\n",
      " - 840s - loss: 0.2238 - acc: 0.9194 - val_loss: 0.2093 - val_acc: 0.9443\n",
      "Epoch 8/20\n",
      " - 841s - loss: 0.2084 - acc: 0.9256 - val_loss: 0.1975 - val_acc: 0.9443\n",
      "Epoch 9/20\n",
      " - 842s - loss: 0.1947 - acc: 0.9371 - val_loss: 0.1893 - val_acc: 0.9421\n",
      "Epoch 10/20\n",
      " - 820s - loss: 0.1837 - acc: 0.9371 - val_loss: 0.1785 - val_acc: 0.9471\n",
      "Epoch 11/20\n",
      " - 777s - loss: 0.1740 - acc: 0.9425 - val_loss: 0.1714 - val_acc: 0.9514\n",
      "Epoch 12/20\n",
      " - 838s - loss: 0.1662 - acc: 0.9449 - val_loss: 0.1657 - val_acc: 0.9529\n",
      "Epoch 13/20\n",
      " - 835s - loss: 0.1569 - acc: 0.9499 - val_loss: 0.1608 - val_acc: 0.9543\n",
      "Epoch 14/20\n",
      " - 839s - loss: 0.1530 - acc: 0.9514 - val_loss: 0.1552 - val_acc: 0.9557\n",
      "Epoch 15/20\n",
      " - 838s - loss: 0.1457 - acc: 0.9537 - val_loss: 0.1514 - val_acc: 0.9571\n",
      "Epoch 16/20\n",
      " - 842s - loss: 0.1406 - acc: 0.9554 - val_loss: 0.1477 - val_acc: 0.9586\n",
      "Epoch 17/20\n",
      " - 840s - loss: 0.1361 - acc: 0.9568 - val_loss: 0.1437 - val_acc: 0.9564\n",
      "Epoch 18/20\n",
      " - 842s - loss: 0.1315 - acc: 0.9583 - val_loss: 0.1407 - val_acc: 0.9579\n",
      "Epoch 19/20\n",
      " - 794s - loss: 0.1280 - acc: 0.9595 - val_loss: 0.1378 - val_acc: 0.9586\n",
      "Epoch 20/20\n",
      " - 798s - loss: 0.1240 - acc: 0.9613 - val_loss: 0.1355 - val_acc: 0.9593\n"
     ]
    }
   ],
   "source": [
    "\n",
    "hist = model1.fit(X_train, y_train,\n",
    "              batch_size=batch_size,\n",
    "              epochs=nb_epoch,\n",
    "              validation_split=0.1,\n",
    "              shuffle=True,\n",
    "              verbose=2)"
   ]
  },
  {
   "cell_type": "code",
   "execution_count": 14,
   "metadata": {},
   "outputs": [
    {
     "name": "stdout",
     "output_type": "stream",
     "text": [
      "Test loss: 0.11870406399454389\n",
      "Test accuracy: 0.9597142857824054\n"
     ]
    }
   ],
   "source": [
    "score = model1.evaluate(X_test, y_test, verbose=0)\n",
    "print('Test loss:', score[0])\n",
    "print('Test accuracy:', score[1])"
   ]
  },
  {
   "cell_type": "markdown",
   "metadata": {},
   "source": [
    "### as we can see both models are giving a high accuracy reached to 98% which can be also increase in case of data augmentation or using diifferent CNN structure "
   ]
  },
  {
   "cell_type": "code",
   "execution_count": null,
   "metadata": {},
   "outputs": [],
   "source": []
  }
 ],
 "metadata": {
  "kernelspec": {
   "display_name": "Python 3",
   "language": "python",
   "name": "python3"
  },
  "language_info": {
   "codemirror_mode": {
    "name": "ipython",
    "version": 3
   },
   "file_extension": ".py",
   "mimetype": "text/x-python",
   "name": "python",
   "nbconvert_exporter": "python",
   "pygments_lexer": "ipython3",
   "version": "3.7.1"
  }
 },
 "nbformat": 4,
 "nbformat_minor": 2
}
