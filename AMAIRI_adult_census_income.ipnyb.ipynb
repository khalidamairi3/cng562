{
 "cells": [
  {
   "cell_type": "markdown",
   "metadata": {},
   "source": [
    "# import libraries"
   ]
  },
  {
   "cell_type": "code",
   "execution_count": 1,
   "metadata": {},
   "outputs": [],
   "source": [
    "import numpy as np\n",
    "import pandas as pd\n",
    "from sklearn.neighbors import KNeighborsRegressor\n",
    "from sklearn.tree import DecisionTreeRegressor\n",
    "from sklearn import tree\n",
    "from sklearn.linear_model import LinearRegression\n",
    "from sklearn.preprocessing import LabelEncoder\n",
    "from sklearn.model_selection import train_test_split\n",
    "from sklearn.metrics import accuracy_score\n",
    "from sklearn.metrics import mean_squared_error\n",
    "\n",
    "# we don't like warnings\n",
    "# you can comment the following 2 lines if you'd like to\n",
    "import warnings\n",
    "warnings.filterwarnings('ignore')\n",
    "\n",
    "# Matplotlib forms basis for visualization in Python\n",
    "import matplotlib.pyplot as plt\n",
    "\n",
    "# We will use the Seaborn library\n",
    "import seaborn as sns\n",
    "sns.set()\n",
    "\n",
    "# Graphics in SVG format are more sharp and legible\n",
    "%config InlineBackend.figure_format = 'svg'"
   ]
  },
  {
   "cell_type": "markdown",
   "metadata": {},
   "source": [
    "#  reading a dataset"
   ]
  },
  {
   "cell_type": "code",
   "execution_count": 2,
   "metadata": {},
   "outputs": [],
   "source": [
    "#downloading the data, setting the headers, removing spaces\n",
    "data_link = \"https://archive.ics.uci.edu/ml/machine-learning-databases/adult/adult.data\"\n",
    "test_data_link = \"https://archive.ics.uci.edu/ml/machine-learning-databases/adult/adult.test\"\n",
    "data = pd.read_csv(data_link,names=[\"age\",\"workclass\",\"fnlwgt\",\"education\",\"education_num\",\"martial_status\",\"occupation\",\"relationship\",\"race\",\"sex\",\"capital_gain\",\"capital_loss\",\"hours_per_week\",\"native_country\",\"income\"],skipinitialspace=True,na_values='?')\n"
   ]
  },
  {
   "cell_type": "markdown",
   "metadata": {},
   "source": [
    "# specify inputs and outputs and convert data to one hot coding for classifications"
   ]
  },
  {
   "cell_type": "code",
   "execution_count": 3,
   "metadata": {},
   "outputs": [
    {
     "data": {
      "text/plain": [
       "array([[   39,    13,  2174, ...,     1,     0,     0],\n",
       "       [   50,    13,     0, ...,     1,     0,     0],\n",
       "       [   38,     9,     0, ...,     1,     0,     0],\n",
       "       ...,\n",
       "       [   58,     9,     0, ...,     1,     0,     0],\n",
       "       [   22,     9,     0, ...,     1,     0,     0],\n",
       "       [   52,     9, 15024, ...,     1,     0,     0]], dtype=int64)"
      ]
     },
     "execution_count": 3,
     "metadata": {},
     "output_type": "execute_result"
    }
   ],
   "source": [
    "inputs = data.drop('income',axis='columns')# the inputs are all columns in the dataset except income\n",
    "inputs = inputs.drop('education',axis='columns')\n",
    "inputs = inputs.drop('fnlwgt',axis='columns')\n",
    "target = data['income']#the target we want to predict is income column\n",
    "\n",
    "inputs=pd.get_dummies(inputs, sparse=True) \n",
    "inputs=inputs.values\n",
    "target=target.values\n",
    "# print(inputs)\n",
    "# encoding the features in order to be used for prediction\n",
    "# le_age = LabelEncoder()\n",
    "# le_workclass = LabelEncoder()\n",
    "# le_education = LabelEncoder()\n",
    "# le_fnlwgt = LabelEncoder()\n",
    "# le_education.num = LabelEncoder()\n",
    "# le_maritalstatus = LabelEncoder()\n",
    "# le_occupation = LabelEncoder()\n",
    "# le_relationship = LabelEncoder()\n",
    "# le_race = LabelEncoder()\n",
    "# le_sex = LabelEncoder()\n",
    "# le_capitalgain = LabelEncoder()\n",
    "# le_capitalloss = LabelEncoder()\n",
    "# le_hourperweek = LabelEncoder()\n",
    "# le_nativecountry = LabelEncoder()\n",
    "\n",
    "\n",
    "# inputs['age'] = le_age.fit_transform(inputs['age'])\n",
    "# inputs['workclass'] = le_workclass.fit_transform(inputs['workclass'])\n",
    "# inputs['education'] = le_education.fit_transform(inputs['education'])\n",
    "# inputs['fnlwgt'] = le_fnlwgt.fit_transform(inputs['fnlwgt'])\n",
    "# inputs['education.num'] = le_education.num.fit_transform(inputs['education.num'])\n",
    "# inputs['marital.status'] = le_maritalstatus.fit_transform(inputs['marital.status'])\n",
    "# inputs['occupation'] = le_occupation.fit_transform(inputs['occupation'])\n",
    "# inputs['relationship'] = le_relationship.fit_transform(inputs['relationship'])\n",
    "# inputs['race'] = le_race.fit_transform(inputs['race'])\n",
    "# inputs['sex'] = le_sex.fit_transform(inputs['sex'])\n",
    "# inputs['capital.gain'] = le_capitalgain.fit_transform(inputs['capital.gain'])\n",
    "# inputs['capital.loss'] = le_capitalloss.fit_transform(inputs['capital.loss'])\n",
    "# inputs['hours.per.week'] = le_hourperweek.fit_transform(inputs['hours.per.week'])\n",
    "# inputs['native.country'] = le_nativecountry.fit_transform(inputs['native.country'])\n",
    "\n",
    "inputs"
   ]
  },
  {
   "cell_type": "code",
   "execution_count": 4,
   "metadata": {},
   "outputs": [
    {
     "data": {
      "text/plain": [
       "array([[26,  9,  0, ...,  1,  0,  0],\n",
       "       [22, 10,  0, ...,  1,  0,  0],\n",
       "       [36,  9,  0, ...,  1,  0,  0],\n",
       "       ...,\n",
       "       [27, 13,  0, ...,  0,  0,  0],\n",
       "       [59,  9,  0, ...,  1,  0,  0],\n",
       "       [33, 13,  0, ...,  1,  0,  0]], dtype=int64)"
      ]
     },
     "execution_count": 4,
     "metadata": {},
     "output_type": "execute_result"
    }
   ],
   "source": [
    "#split the data so that 10% of the data is used for testing\n",
    "x_train,x_test,y_train,y_test=train_test_split(inputs,target,test_size=0.1,random_state=1)\n",
    "x_train"
   ]
  },
  {
   "cell_type": "markdown",
   "metadata": {},
   "source": [
    "### for every algorithm we will train for the data train and test for the data test and showing the accuracy of the prediction"
   ]
  },
  {
   "cell_type": "code",
   "execution_count": null,
   "metadata": {},
   "outputs": [
    {
     "data": {
      "text/plain": [
       "0.81639545594105"
      ]
     },
     "execution_count": 5,
     "metadata": {},
     "output_type": "execute_result"
    }
   ],
   "source": [
    "#build the decision tree\n",
    "model = tree.DecisionTreeClassifier()\n",
    "model.fit(x_train, y_train)\n",
    "# predict for x_test \n",
    "y_pred=model.predict(x_test)\n",
    "#calculate the accuracy of prediction by comparing the results\n",
    "accuracy=accuracy_score(y_test,y_pred)\n",
    "accuracy"
   ]
  },
  {
   "cell_type": "code",
   "execution_count": null,
   "metadata": {},
   "outputs": [
    {
     "data": {
      "text/plain": [
       "0.841264967761744"
      ]
     },
     "execution_count": 6,
     "metadata": {},
     "output_type": "execute_result"
    }
   ],
   "source": [
    "# knn algorithm\n",
    "from sklearn.neighbors import KNeighborsClassifier  \n",
    "classifier = KNeighborsClassifier(n_neighbors=5)  \n",
    "classifier.fit(x_train, y_train)  \n",
    "y_pred = classifier.predict(x_test) \n",
    "accuracy=accuracy_score(y_test,y_pred)\n",
    "accuracy"
   ]
  },
  {
   "cell_type": "code",
   "execution_count": null,
   "metadata": {},
   "outputs": [
    {
     "data": {
      "text/plain": [
       "0.8483266809947805"
      ]
     },
     "execution_count": 7,
     "metadata": {},
     "output_type": "execute_result"
    }
   ],
   "source": [
    "#logistic regression\n",
    "from sklearn.linear_model import LogisticRegression\n",
    "logistic = LogisticRegression()\n",
    "logistic.fit(x_train,y_train)\n",
    "y_pred=logistic.predict(x_test)\n",
    "accuracy=accuracy_score(y_test,y_pred)\n",
    "accuracy"
   ]
  },
  {
   "cell_type": "code",
   "execution_count": null,
   "metadata": {},
   "outputs": [],
   "source": [
    "import sys, os\n",
    "from sklearn import svm\n",
    "from sklearn.model_selection import train_test_split, GridSearchCV\n",
    "\n",
    "clf = svm.SVC(kernel='linear')\n",
    "clf=clf.fit(x_train,y_train)\n",
    "y_pred = clf.predict(x_test)\n",
    "accuracy=accuracy_score(y_test,y_pred)\n",
    "accuracy"
   ]
  },
  {
   "cell_type": "markdown",
   "metadata": {},
   "source": [
    "# cross validation"
   ]
  },
  {
   "cell_type": "code",
   "execution_count": null,
   "metadata": {},
   "outputs": [],
   "source": [
    "\n",
    "from sklearn.model_selection import cross_val_score,KFold\n",
    "\n",
    "logistic = LogisticRegression()\n",
    "classifier = KNeighborsClassifier(n_neighbors=5)\n",
    "model = tree.DecisionTreeClassifier()\n",
    "clf = svm.SVC(kernel='linear')\n",
    "\n",
    "scores_svm = cross_val_score(clf, inputs,target, cv=10)\n",
    "\n",
    "scores_logistic = cross_val_score(logistic, inputs, target, cv=10) \n",
    "\n",
    "scores_tree = cross_val_score(model, inputs, target, cv=10)\n",
    "\n",
    "scores_knn = cross_val_score(classifier, inputs, target, cv=10)\n",
    "\n",
    "\n",
    "print(\"Accuracy of logistic regression: %0.2f \" % (scores_logistic.mean()))\n",
    "print(\"Accuracy of decision tree : %0.2f \" % (scores_tree.mean()))\n",
    "print(\"Accuracy of knn : %0.2f \" % (scores_knn.mean()))\n",
    "print(\"Accuracy of sv, : %0.2f \" % (scores_svm.mean()))"
   ]
  }
 ],
 "metadata": {
  "kernelspec": {
   "display_name": "Python 3",
   "language": "python",
   "name": "python3"
  },
  "language_info": {
   "codemirror_mode": {
    "name": "ipython",
    "version": 3
   },
   "file_extension": ".py",
   "mimetype": "text/x-python",
   "name": "python",
   "nbconvert_exporter": "python",
   "pygments_lexer": "ipython3",
   "version": "3.7.1"
  }
 },
 "nbformat": 4,
 "nbformat_minor": 2
}
